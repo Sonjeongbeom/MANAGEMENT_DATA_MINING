{
 "cells": [
  {
   "cell_type": "code",
   "execution_count": 1,
   "id": "26176602",
   "metadata": {},
   "outputs": [],
   "source": [
    "from PIL import Image\n",
    "import os\n",
    "import glob\n",
    "import numpy as np\n",
    "import pandas as pd\n",
    "from sklearn.model_selection import train_test_split\n",
    "import splitfolders\n",
    "import tensorflow as tf\n",
    "import keras\n",
    "import matplotlib.pyplot as plt\n",
    "from keras.models import Sequential\n",
    "from keras.layers import Dense, Dropout, Flatten, Conv2D, pooling\n",
    "from keras.utils import np_utils, to_categorical\n",
    "from keras.callbacks import EarlyStopping, ModelCheckpoint\n",
    "import splitfolders\n",
    "import random"
   ]
  },
  {
   "cell_type": "code",
   "execution_count": 4,
   "id": "edd71bb9",
   "metadata": {},
   "outputs": [],
   "source": [
    "categories = [(\"PET\", 1), (\"PS\", 2), (\"PP\", 3), (\"PE\", 4)] # 2992 / 2992 / 3001 / 2776 = > 11,761\n",
    "\n",
    "X, y = [], []"
   ]
  },
  {
   "cell_type": "code",
   "execution_count": 3,
   "id": "9858d485",
   "metadata": {},
   "outputs": [
    {
     "name": "stderr",
     "output_type": "stream",
     "text": [
      "Copying files: 11761 files [00:38, 302.03 files/s]\n"
     ]
    }
   ],
   "source": [
    "# splitfolders.ratio(\"input\", output=\"output\", seed=1337, ratio=(0.8, 0.2))"
   ]
  },
  {
   "cell_type": "code",
   "execution_count": 4,
   "id": "e622ae99",
   "metadata": {},
   "outputs": [],
   "source": [
    "for i, v in enumerate(categories) : \n",
    "    # one-hot encoding\n",
    "    label = [0 for _ in range(len(categories))]\n",
    "    label[i] = 1\n",
    "\n",
    "    image_dir = \"./output/train/\" + v[0] + \"_IMG/*.jpg\"\n",
    "    files = glob.glob(image_dir)\n",
    "    for file in files :\n",
    "        image = Image.open(file)\n",
    "        image = image.convert(\"RGB\")\n",
    "        image = image.resize((64, 64))\n",
    "        data = np.asarray(image)\n",
    "        \n",
    "#         label = [0 for _ in range(len(categories))]\n",
    "#         json_file = file.replace(\".jpg\", \".txt\")\n",
    "#         json_txt = open(json_file, 'r', encoding = 'utf8')\n",
    "#         category_id = int(json_txt.readline().rstrip().split(\" : \")[1])\n",
    "#         label[category_id - 1] = 1\n",
    "\n",
    "        X.append(data)\n",
    "        y.append(label)"
   ]
  },
  {
   "cell_type": "code",
   "execution_count": 5,
   "id": "bdb235c5",
   "metadata": {},
   "outputs": [
    {
     "name": "stdout",
     "output_type": "stream",
     "text": [
      "10582\n",
      "10582\n"
     ]
    }
   ],
   "source": [
    "X = np.array(X)\n",
    "y = np.array(y)\n",
    "\n",
    "print(len(X))\n",
    "print(len(y))"
   ]
  },
  {
   "cell_type": "code",
   "execution_count": 6,
   "id": "1f0e5d34",
   "metadata": {},
   "outputs": [
    {
     "name": "stderr",
     "output_type": "stream",
     "text": [
      "C:\\ProgramData\\Anaconda3\\lib\\site-packages\\numpy\\lib\\npyio.py:528: VisibleDeprecationWarning: Creating an ndarray from ragged nested sequences (which is a list-or-tuple of lists-or-tuples-or ndarrays with different lengths or shapes) is deprecated. If you meant to do this, you must specify 'dtype=object' when creating the ndarray.\n",
      "  arr = np.asanyarray(arr)\n"
     ]
    }
   ],
   "source": [
    "X_train, X_test, y_train, y_test = train_test_split(X, y, test_size=0.2, random_state=219)\n",
    "xy = (X_train, X_test, y_train, y_test)\n",
    "np.save(\"./muli_image_data_cnn.npy\", xy)"
   ]
  },
  {
   "cell_type": "code",
   "execution_count": 7,
   "id": "34b35be2",
   "metadata": {},
   "outputs": [],
   "source": [
    "# 일반화\n",
    "X_train = X_train.astype('float32')\n",
    "X_test = X_test.astype('float32')\n",
    "X_train /= 255\n",
    "X_test /= 255"
   ]
  },
  {
   "cell_type": "code",
   "execution_count": 8,
   "id": "1b460dbf",
   "metadata": {},
   "outputs": [
    {
     "name": "stdout",
     "output_type": "stream",
     "text": [
      "Model: \"sequential\"\n",
      "_________________________________________________________________\n",
      " Layer (type)                Output Shape              Param #   \n",
      "=================================================================\n",
      " conv2d (Conv2D)             (None, 62, 62, 64)        1792      \n",
      "                                                                 \n",
      " max_pooling2d (MaxPooling2D  (None, 31, 31, 64)       0         \n",
      " )                                                               \n",
      "                                                                 \n",
      " dropout (Dropout)           (None, 31, 31, 64)        0         \n",
      "                                                                 \n",
      " conv2d_1 (Conv2D)           (None, 29, 29, 64)        36928     \n",
      "                                                                 \n",
      " max_pooling2d_1 (MaxPooling  (None, 14, 14, 64)       0         \n",
      " 2D)                                                             \n",
      "                                                                 \n",
      " dropout_1 (Dropout)         (None, 14, 14, 64)        0         \n",
      "                                                                 \n",
      " flatten (Flatten)           (None, 12544)             0         \n",
      "                                                                 \n",
      " dense (Dense)               (None, 256)               3211520   \n",
      "                                                                 \n",
      " dropout_2 (Dropout)         (None, 256)               0         \n",
      "                                                                 \n",
      " dense_1 (Dense)             (None, 4)                 1028      \n",
      "                                                                 \n",
      "=================================================================\n",
      "Total params: 3,251,268\n",
      "Trainable params: 3,251,268\n",
      "Non-trainable params: 0\n",
      "_________________________________________________________________\n",
      "None\n"
     ]
    }
   ],
   "source": [
    "# 모형 구조 정의하기\n",
    "model = Sequential()\n",
    "model.add(Conv2D(64, (3, 3), activation='relu', input_shape=(64, 64, 3)))\n",
    "model.add(pooling.MaxPooling2D(pool_size=(2, 2)))\n",
    "model.add(Dropout(0.25))\n",
    "\n",
    "model.add(Conv2D(64, (3, 3), activation='relu'))\n",
    "model.add(pooling.MaxPooling2D(pool_size=(2, 2)))\n",
    "model.add(Dropout(0.25))\n",
    "\n",
    "model.add(Flatten())\n",
    "model.add(Dense(256, activation='relu'))\n",
    "model.add(Dropout(0.5))\n",
    "model.add(Dense(len(categories), activation='softmax'))\n",
    "print(model.summary())"
   ]
  },
  {
   "cell_type": "code",
   "execution_count": 12,
   "id": "b89782af",
   "metadata": {},
   "outputs": [],
   "source": [
    "# 모형 학습 정의하기\n",
    "model.compile(loss='categorical_crossentropy', optimizer='adam', metrics=['accuracy'])\n",
    "\n",
    "# 모델 저장\n",
    "model_path = \"./multi_img_classification_cnn.model\"\n",
    "checkpoint = ModelCheckpoint(filepath=model_path, monitor='val_loss', verbose=1, save_best_only=True)"
   ]
  },
  {
   "cell_type": "code",
   "execution_count": 13,
   "id": "15c55cbc",
   "metadata": {},
   "outputs": [
    {
     "name": "stdout",
     "output_type": "stream",
     "text": [
      "Epoch 1/10\n",
      "186/186 [==============================] - ETA: 0s - loss: 0.6806 - accuracy: 0.7219\n",
      "Epoch 1: saving model to .\\multi_img_classification_cnn.model\n"
     ]
    },
    {
     "name": "stderr",
     "output_type": "stream",
     "text": [
      "WARNING:absl:Found untraced functions such as _jit_compiled_convolution_op, _jit_compiled_convolution_op while saving (showing 2 of 2). These functions will not be directly callable after loading.\n"
     ]
    },
    {
     "name": "stdout",
     "output_type": "stream",
     "text": [
      "INFO:tensorflow:Assets written to: .\\multi_img_classification_cnn.model\\assets\n"
     ]
    },
    {
     "name": "stderr",
     "output_type": "stream",
     "text": [
      "INFO:tensorflow:Assets written to: .\\multi_img_classification_cnn.model\\assets\n"
     ]
    },
    {
     "name": "stdout",
     "output_type": "stream",
     "text": [
      "186/186 [==============================] - 86s 445ms/step - loss: 0.6806 - accuracy: 0.7219 - val_loss: 0.2735 - val_accuracy: 0.9142\n",
      "Epoch 2/10\n",
      "186/186 [==============================] - ETA: 0s - loss: 0.2112 - accuracy: 0.9269\n",
      "Epoch 2: saving model to .\\multi_img_classification_cnn.model\n"
     ]
    },
    {
     "name": "stderr",
     "output_type": "stream",
     "text": [
      "WARNING:absl:Found untraced functions such as _jit_compiled_convolution_op, _jit_compiled_convolution_op while saving (showing 2 of 2). These functions will not be directly callable after loading.\n"
     ]
    },
    {
     "name": "stdout",
     "output_type": "stream",
     "text": [
      "INFO:tensorflow:Assets written to: .\\multi_img_classification_cnn.model\\assets\n"
     ]
    },
    {
     "name": "stderr",
     "output_type": "stream",
     "text": [
      "INFO:tensorflow:Assets written to: .\\multi_img_classification_cnn.model\\assets\n"
     ]
    },
    {
     "name": "stdout",
     "output_type": "stream",
     "text": [
      "186/186 [==============================] - 73s 394ms/step - loss: 0.2112 - accuracy: 0.9269 - val_loss: 0.1820 - val_accuracy: 0.9374\n",
      "Epoch 3/10\n",
      "186/186 [==============================] - ETA: 0s - loss: 0.1550 - accuracy: 0.9487\n",
      "Epoch 3: saving model to .\\multi_img_classification_cnn.model\n"
     ]
    },
    {
     "name": "stderr",
     "output_type": "stream",
     "text": [
      "WARNING:absl:Found untraced functions such as _jit_compiled_convolution_op, _jit_compiled_convolution_op while saving (showing 2 of 2). These functions will not be directly callable after loading.\n"
     ]
    },
    {
     "name": "stdout",
     "output_type": "stream",
     "text": [
      "INFO:tensorflow:Assets written to: .\\multi_img_classification_cnn.model\\assets\n"
     ]
    },
    {
     "name": "stderr",
     "output_type": "stream",
     "text": [
      "INFO:tensorflow:Assets written to: .\\multi_img_classification_cnn.model\\assets\n"
     ]
    },
    {
     "name": "stdout",
     "output_type": "stream",
     "text": [
      "186/186 [==============================] - 63s 339ms/step - loss: 0.1550 - accuracy: 0.9487 - val_loss: 0.1268 - val_accuracy: 0.9528\n",
      "Epoch 4/10\n",
      "186/186 [==============================] - ETA: 0s - loss: 0.1035 - accuracy: 0.9673\n",
      "Epoch 4: saving model to .\\multi_img_classification_cnn.model\n"
     ]
    },
    {
     "name": "stderr",
     "output_type": "stream",
     "text": [
      "WARNING:absl:Found untraced functions such as _jit_compiled_convolution_op, _jit_compiled_convolution_op while saving (showing 2 of 2). These functions will not be directly callable after loading.\n"
     ]
    },
    {
     "name": "stdout",
     "output_type": "stream",
     "text": [
      "INFO:tensorflow:Assets written to: .\\multi_img_classification_cnn.model\\assets\n"
     ]
    },
    {
     "name": "stderr",
     "output_type": "stream",
     "text": [
      "INFO:tensorflow:Assets written to: .\\multi_img_classification_cnn.model\\assets\n"
     ]
    },
    {
     "name": "stdout",
     "output_type": "stream",
     "text": [
      "186/186 [==============================] - 69s 373ms/step - loss: 0.1035 - accuracy: 0.9673 - val_loss: 0.0981 - val_accuracy: 0.9665\n",
      "Epoch 5/10\n",
      "186/186 [==============================] - ETA: 0s - loss: 0.0939 - accuracy: 0.9693\n",
      "Epoch 5: saving model to .\\multi_img_classification_cnn.model\n"
     ]
    },
    {
     "name": "stderr",
     "output_type": "stream",
     "text": [
      "WARNING:absl:Found untraced functions such as _jit_compiled_convolution_op, _jit_compiled_convolution_op while saving (showing 2 of 2). These functions will not be directly callable after loading.\n"
     ]
    },
    {
     "name": "stdout",
     "output_type": "stream",
     "text": [
      "INFO:tensorflow:Assets written to: .\\multi_img_classification_cnn.model\\assets\n"
     ]
    },
    {
     "name": "stderr",
     "output_type": "stream",
     "text": [
      "INFO:tensorflow:Assets written to: .\\multi_img_classification_cnn.model\\assets\n"
     ]
    },
    {
     "name": "stdout",
     "output_type": "stream",
     "text": [
      "186/186 [==============================] - 68s 366ms/step - loss: 0.0939 - accuracy: 0.9693 - val_loss: 0.0966 - val_accuracy: 0.9697\n",
      "Epoch 6/10\n",
      "186/186 [==============================] - ETA: 0s - loss: 0.0732 - accuracy: 0.9752\n",
      "Epoch 6: saving model to .\\multi_img_classification_cnn.model\n"
     ]
    },
    {
     "name": "stderr",
     "output_type": "stream",
     "text": [
      "WARNING:absl:Found untraced functions such as _jit_compiled_convolution_op, _jit_compiled_convolution_op while saving (showing 2 of 2). These functions will not be directly callable after loading.\n"
     ]
    },
    {
     "name": "stdout",
     "output_type": "stream",
     "text": [
      "INFO:tensorflow:Assets written to: .\\multi_img_classification_cnn.model\\assets\n"
     ]
    },
    {
     "name": "stderr",
     "output_type": "stream",
     "text": [
      "INFO:tensorflow:Assets written to: .\\multi_img_classification_cnn.model\\assets\n"
     ]
    },
    {
     "name": "stdout",
     "output_type": "stream",
     "text": [
      "186/186 [==============================] - 72s 389ms/step - loss: 0.0732 - accuracy: 0.9752 - val_loss: 0.0638 - val_accuracy: 0.9791\n",
      "Epoch 7/10\n",
      "186/186 [==============================] - ETA: 0s - loss: 0.0625 - accuracy: 0.9782\n",
      "Epoch 7: saving model to .\\multi_img_classification_cnn.model\n"
     ]
    },
    {
     "name": "stderr",
     "output_type": "stream",
     "text": [
      "WARNING:absl:Found untraced functions such as _jit_compiled_convolution_op, _jit_compiled_convolution_op while saving (showing 2 of 2). These functions will not be directly callable after loading.\n"
     ]
    },
    {
     "name": "stdout",
     "output_type": "stream",
     "text": [
      "INFO:tensorflow:Assets written to: .\\multi_img_classification_cnn.model\\assets\n"
     ]
    },
    {
     "name": "stderr",
     "output_type": "stream",
     "text": [
      "INFO:tensorflow:Assets written to: .\\multi_img_classification_cnn.model\\assets\n"
     ]
    },
    {
     "name": "stdout",
     "output_type": "stream",
     "text": [
      "186/186 [==============================] - 70s 379ms/step - loss: 0.0625 - accuracy: 0.9782 - val_loss: 0.0617 - val_accuracy: 0.9783\n",
      "Epoch 8/10\n",
      "186/186 [==============================] - ETA: 0s - loss: 0.0675 - accuracy: 0.9781\n",
      "Epoch 8: saving model to .\\multi_img_classification_cnn.model\n"
     ]
    },
    {
     "name": "stderr",
     "output_type": "stream",
     "text": [
      "WARNING:absl:Found untraced functions such as _jit_compiled_convolution_op, _jit_compiled_convolution_op while saving (showing 2 of 2). These functions will not be directly callable after loading.\n"
     ]
    },
    {
     "name": "stdout",
     "output_type": "stream",
     "text": [
      "INFO:tensorflow:Assets written to: .\\multi_img_classification_cnn.model\\assets\n"
     ]
    },
    {
     "name": "stderr",
     "output_type": "stream",
     "text": [
      "INFO:tensorflow:Assets written to: .\\multi_img_classification_cnn.model\\assets\n"
     ]
    },
    {
     "name": "stdout",
     "output_type": "stream",
     "text": [
      "186/186 [==============================] - 65s 352ms/step - loss: 0.0675 - accuracy: 0.9781 - val_loss: 0.0762 - val_accuracy: 0.9713\n",
      "Epoch 9/10\n",
      "186/186 [==============================] - ETA: 0s - loss: 0.0510 - accuracy: 0.9826\n",
      "Epoch 9: saving model to .\\multi_img_classification_cnn.model\n"
     ]
    },
    {
     "name": "stderr",
     "output_type": "stream",
     "text": [
      "WARNING:absl:Found untraced functions such as _jit_compiled_convolution_op, _jit_compiled_convolution_op while saving (showing 2 of 2). These functions will not be directly callable after loading.\n"
     ]
    },
    {
     "name": "stdout",
     "output_type": "stream",
     "text": [
      "INFO:tensorflow:Assets written to: .\\multi_img_classification_cnn.model\\assets\n"
     ]
    },
    {
     "name": "stderr",
     "output_type": "stream",
     "text": [
      "INFO:tensorflow:Assets written to: .\\multi_img_classification_cnn.model\\assets\n"
     ]
    },
    {
     "name": "stdout",
     "output_type": "stream",
     "text": [
      "186/186 [==============================] - 68s 366ms/step - loss: 0.0510 - accuracy: 0.9826 - val_loss: 0.1097 - val_accuracy: 0.9567\n",
      "Epoch 10/10\n",
      "186/186 [==============================] - ETA: 0s - loss: 0.0482 - accuracy: 0.9860\n",
      "Epoch 10: saving model to .\\multi_img_classification_cnn.model\n"
     ]
    },
    {
     "name": "stderr",
     "output_type": "stream",
     "text": [
      "WARNING:absl:Found untraced functions such as _jit_compiled_convolution_op, _jit_compiled_convolution_op while saving (showing 2 of 2). These functions will not be directly callable after loading.\n"
     ]
    },
    {
     "name": "stdout",
     "output_type": "stream",
     "text": [
      "INFO:tensorflow:Assets written to: .\\multi_img_classification_cnn.model\\assets\n"
     ]
    },
    {
     "name": "stderr",
     "output_type": "stream",
     "text": [
      "INFO:tensorflow:Assets written to: .\\multi_img_classification_cnn.model\\assets\n"
     ]
    },
    {
     "name": "stdout",
     "output_type": "stream",
     "text": [
      "\b\b\b\b\b\b\b\b\b\b\b\b\b\b\b\b\b\b\b\b\b\b\b\b\b\b\b\b\b\b\b\b\b\b\b\b\b\b\b\b\b\b\b\b\b\b\b\b\b\b\b\b\b\b\b\b\b\b\b\b\b\b\b\b\b\b\b\b\b\b\b\b\b\b\b\b\b\b\b\b\b\b\b\b\r",
      "186/186 [==============================] - 63s 341ms/step - loss: 0.0482 - accuracy: 0.9860 - val_loss: 0.0598 - val_accuracy: 0.9827\n"
     ]
    }
   ],
   "source": [
    "# 학습하기\n",
    "history=model.fit(X_train, y_train, validation_split=0.3, batch_size=32, epochs=10, verbose=1, callbacks=[checkpoint])"
   ]
  },
  {
   "cell_type": "code",
   "execution_count": 66,
   "id": "8d4d110f",
   "metadata": {},
   "outputs": [
    {
     "name": "stdout",
     "output_type": "stream",
     "text": [
      "['loss', 'accuracy']\n",
      "[0.051186174154281616, 0.9853566288948059]\n"
     ]
    },
    {
     "data": {
      "text/plain": [
       "array([0, 0, 0, 1])"
      ]
     },
     "execution_count": 66,
     "metadata": {},
     "output_type": "execute_result"
    }
   ],
   "source": [
    "# 성능 평가하기\n",
    "score = model.evaluate(X_test, y_test, verbose=0)\n",
    "print(model.metrics_names)\n",
    "print(score)"
   ]
  },
  {
   "cell_type": "code",
   "execution_count": 15,
   "id": "caf6af66",
   "metadata": {},
   "outputs": [],
   "source": [
    "#성능 그래프로 그리기\n",
    "\n",
    "acc = history.history['accuracy']\n",
    "loss = history.history['loss']\n",
    "val_acc = history.history['val_accuracy']\n",
    "val_loss = history.history['val_loss']\n",
    "epoch_range = range(1, len(acc) + 1)"
   ]
  },
  {
   "cell_type": "code",
   "execution_count": 16,
   "id": "485b74f1",
   "metadata": {},
   "outputs": [
    {
     "data": {
      "text/plain": [
       "<Figure size 640x480 with 0 Axes>"
      ]
     },
     "execution_count": 16,
     "metadata": {},
     "output_type": "execute_result"
    },
    {
     "data": {
      "image/png": "[encoded data removed]",
      "text/plain": [
       "<Figure size 640x480 with 1 Axes>"
      ]
     },
     "metadata": {},
     "output_type": "display_data"
    },
    {
     "data": {
      "text/plain": [
       "<Figure size 640x480 with 0 Axes>"
      ]
     },
     "metadata": {},
     "output_type": "display_data"
    }
   ],
   "source": [
    "plt.plot(epoch_range, loss, 'b', label='training loss')\n",
    "plt.plot(epoch_range, val_loss, 'r', label='validation loss')\n",
    "plt.title('Model loss')\n",
    "plt.xlabel('Epochs')\n",
    "plt.ylabel('Loss')\n",
    "plt.legend()\n",
    "plt.figure()"
   ]
  },
  {
   "cell_type": "code",
   "execution_count": 17,
   "id": "50ba5902",
   "metadata": {},
   "outputs": [
    {
     "data": {
      "text/plain": [
       "<Figure size 640x480 with 0 Axes>"
      ]
     },
     "execution_count": 17,
     "metadata": {},
     "output_type": "execute_result"
    },
    {
     "data": {
      "image/png": "[encoded data removed]",
      "text/plain": [
       "<Figure size 640x480 with 1 Axes>"
      ]
     },
     "metadata": {},
     "output_type": "display_data"
    },
    {
     "data": {
      "text/plain": [
       "<Figure size 640x480 with 0 Axes>"
      ]
     },
     "metadata": {},
     "output_type": "display_data"
    }
   ],
   "source": [
    "plt.plot(epoch_range, acc, 'b', label='training accuracy')\n",
    "plt.plot(epoch_range, val_acc, 'r', label='validation accuracy')\n",
    "plt.title('Model accuracy')\n",
    "plt.xlabel('Epochs')\n",
    "plt.ylabel('Accuracy')\n",
    "plt.legend()\n",
    "plt.figure()"
   ]
  },
  {
   "cell_type": "code",
   "execution_count": 5,
   "id": "4a9430e4",
   "metadata": {},
   "outputs": [
    {
     "name": "stdout",
     "output_type": "stream",
     "text": [
      "1179\n",
      "1179\n",
      "4\n"
     ]
    }
   ],
   "source": [
    "from PIL import Image\n",
    "import os, glob, numpy as np\n",
    "from keras.models import load_model\n",
    "\n",
    "X_val, y_val, num_class, total_files = [], [], [], []\n",
    "\n",
    "for i, v in enumerate(categories) : \n",
    "    label = [0 for _ in range(len(categories))]\n",
    "    label[i] = 1\n",
    "    image_dir = \"./output/val/\" + v[0] + \"_IMG/*.jpg\"\n",
    "    files = glob.glob(image_dir)\n",
    "    num_class.append(len(files))\n",
    "    total_files.extend(files)\n",
    "    for file in files :\n",
    "        image = Image.open(file)\n",
    "        image = image.convert(\"RGB\")\n",
    "        image = image.resize((64, 64))\n",
    "        data = np.asarray(image)\n",
    "\n",
    "        X_val.append(data)\n",
    "        y_val.append(label)\n",
    "        \n",
    "X_val = np.array(X_val)\n",
    "y_val = np.array(y_val)\n",
    "\n",
    "print(len(X_val))\n",
    "print(len(y_val))\n",
    "print(len(num_class))"
   ]
  },
  {
   "cell_type": "code",
   "execution_count": 6,
   "id": "b299b569",
   "metadata": {},
   "outputs": [],
   "source": [
    "X_val = X_val.astype('float32')\n",
    "X_val /= 255"
   ]
  },
  {
   "cell_type": "code",
   "execution_count": 7,
   "id": "f714a42e",
   "metadata": {},
   "outputs": [
    {
     "name": "stdout",
     "output_type": "stream",
     "text": [
      "Model: \"sequential\"\n",
      "_________________________________________________________________\n",
      " Layer (type)                Output Shape              Param #   \n",
      "=================================================================\n",
      " conv2d (Conv2D)             (None, 62, 62, 64)        1792      \n",
      "                                                                 \n",
      " max_pooling2d (MaxPooling2D  (None, 31, 31, 64)       0         \n",
      " )                                                               \n",
      "                                                                 \n",
      " dropout (Dropout)           (None, 31, 31, 64)        0         \n",
      "                                                                 \n",
      " conv2d_1 (Conv2D)           (None, 29, 29, 64)        36928     \n",
      "                                                                 \n",
      " max_pooling2d_1 (MaxPooling  (None, 14, 14, 64)       0         \n",
      " 2D)                                                             \n",
      "                                                                 \n",
      " dropout_1 (Dropout)         (None, 14, 14, 64)        0         \n",
      "                                                                 \n",
      " flatten (Flatten)           (None, 12544)             0         \n",
      "                                                                 \n",
      " dense (Dense)               (None, 256)               3211520   \n",
      "                                                                 \n",
      " dropout_2 (Dropout)         (None, 256)               0         \n",
      "                                                                 \n",
      " dense_1 (Dense)             (None, 4)                 1028      \n",
      "                                                                 \n",
      "=================================================================\n",
      "Total params: 3,251,268\n",
      "Trainable params: 3,251,268\n",
      "Non-trainable params: 0\n",
      "_________________________________________________________________\n",
      "None\n"
     ]
    }
   ],
   "source": [
    "model = load_model(\"./multi_img_classification_cnn.model\")\n",
    "print(model.summary())"
   ]
  },
  {
   "cell_type": "code",
   "execution_count": 8,
   "id": "6303b72e",
   "metadata": {},
   "outputs": [
    {
     "name": "stdout",
     "output_type": "stream",
     "text": [
      "37/37 [==============================] - 3s 59ms/step\n",
      "1179\n"
     ]
    }
   ],
   "source": [
    "y_pred = model.predict(X_val)\n",
    "np.set_printoptions(formatter={'float' : lambda x : '{0:0.3f}'.format(x)}) \n",
    "print(len(y_pred))"
   ]
  },
  {
   "cell_type": "code",
   "execution_count": 10,
   "id": "24514fcc",
   "metadata": {},
   "outputs": [
    {
     "name": "stdout",
     "output_type": "stream",
     "text": [
      "0.9838846480067854\n"
     ]
    }
   ],
   "source": [
    "corrects = 0\n",
    "for i in range(len(y_pred)) : \n",
    "    if y_pred[i].argmax() == y_val[i].argmax() :\n",
    "        corrects += 1\n",
    "\n",
    "print(corrects / len(y_pred))"
   ]
  },
  {
   "cell_type": "code",
   "execution_count": 43,
   "id": "7901739f",
   "metadata": {},
   "outputs": [
    {
     "name": "stdout",
     "output_type": "stream",
     "text": [
      "[22, 137, 541, 561, 375, 1087, 926, 16, 1092, 475]\n"
     ]
    }
   ],
   "source": [
    "samples = []\n",
    "\n",
    "random_num = random.randrange(0, len(y_pred) + 1)\n",
    "\n",
    "for i in range(0, 10) :\n",
    "    while random_num in samples : \n",
    "        random_num = random.randrange(0, len(y_pred) + 1)\n",
    "    samples.append(random_num)\n",
    "\n",
    "print(samples)"
   ]
  },
  {
   "cell_type": "code",
   "execution_count": 44,
   "id": "4fecc40d",
   "metadata": {},
   "outputs": [
    {
     "name": "stdout",
     "output_type": "stream",
     "text": [
      "1/1 [==============================] - 0s 68ms/step\n",
      "사진 PET_025_221_2.jpg는 PET로 추정됩니다.\n",
      "1/1 [==============================] - 0s 20ms/step\n",
      "사진 PET_026_494_2.jpg는 PET로 추정됩니다.\n",
      "1/1 [==============================] - 0s 83ms/step\n",
      "사진 PS_041_5461_2.jpg는 PS로 추정됩니다.\n",
      "1/1 [==============================] - 0s 78ms/step\n",
      "사진 PS_041_5498_1.jpg는 PS로 추정됩니다.\n",
      "1/1 [==============================] - 0s 75ms/step\n",
      "사진 PS_040_7417_0.jpg는 PS로 추정됩니다.\n",
      "1/1 [==============================] - 0s 68ms/step\n",
      "사진 PE_096_3747_1.jpg는 PE로 추정됩니다.\n",
      "1/1 [==============================] - 0s 66ms/step\n",
      "사진 PE_088_54_1.jpg는 PE로 추정됩니다.\n",
      "1/1 [==============================] - 0s 73ms/step\n",
      "사진 PET_025_205_1.jpg는 PET로 추정됩니다.\n",
      "1/1 [==============================] - 0s 72ms/step\n",
      "사진 PE_096_3812_0.jpg는 PE로 추정됩니다.\n",
      "1/1 [==============================] - 0s 70ms/step\n",
      "사진 PS_041_1332_2.jpg는 PS로 추정됩니다.\n"
     ]
    }
   ],
   "source": [
    "for sample in samples : \n",
    "    random_img = Image.open(total_files[sample])\n",
    "    random_img = random_img.convert(\"RGB\")\n",
    "    random_img = random_img.resize((64, 64))\n",
    "    raw_data = np.asarray(random_img)\n",
    "    data = raw_data.reshape(1, 64, 64, 3)\n",
    "    pred_class = model.predict(data)\n",
    "    pred_class = pred_class.argmax()\n",
    "\n",
    "    class_str = categories[pred_class][0]\n",
    "    print(\"사진 \" + total_files[sample].split(\"\\\\\")[1] + \"는 \" + class_str + \"로 추정됩니다.\")    \n",
    "    image = Image.fromarray(raw_data)\n",
    "    image.show()"
   ]
  },
  {
   "cell_type": "code",
   "execution_count": null,
   "id": "916305e6",
   "metadata": {},
   "outputs": [],
   "source": [
    "# Neural Network"
   ]
  }
 ],
 "metadata": {
  "kernelspec": {
   "display_name": "Python 3 (ipykernel)",
   "language": "python",
   "name": "python3"
  },
  "language_info": {
   "codemirror_mode": {
    "name": "ipython",
    "version": 3
   },
   "file_extension": ".py",
   "mimetype": "text/x-python",
   "name": "python",
   "nbconvert_exporter": "python",
   "pygments_lexer": "ipython3",
   "version": "3.9.12"
  }
 },
 "nbformat": 4,
 "nbformat_minor": 5
}
